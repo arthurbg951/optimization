{
 "cells": [
  {
   "cell_type": "markdown",
   "metadata": {},
   "source": [
    "# Importanto bibliotecas"
   ]
  },
  {
   "cell_type": "code",
   "execution_count": 171,
   "metadata": {},
   "outputs": [],
   "source": [
    "import sympy as sp"
   ]
  },
  {
   "cell_type": "markdown",
   "metadata": {},
   "source": [
    "# Problema 1"
   ]
  },
  {
   "cell_type": "markdown",
   "metadata": {},
   "source": [
    "## Função objetivo"
   ]
  },
  {
   "cell_type": "code",
   "execution_count": 172,
   "metadata": {},
   "outputs": [],
   "source": [
    "x1, x2 = sp.symbols('x1 x2')\n",
    "f = (x1 - 2.0) ** 2 + (x2 - 2.0) ** 2"
   ]
  },
  {
   "cell_type": "code",
   "execution_count": 173,
   "metadata": {},
   "outputs": [
    {
     "data": {
      "text/latex": [
       "$\\displaystyle 4.0 \\left(0.5 x_{1} - 1\\right)^{2} + 4.0 \\left(0.5 x_{2} - 1\\right)^{2}$"
      ],
      "text/plain": [
       "4.0*(0.5*x1 - 1)**2 + 4.0*(0.5*x2 - 1)**2"
      ]
     },
     "execution_count": 173,
     "metadata": {},
     "output_type": "execute_result"
    }
   ],
   "source": [
    "f"
   ]
  },
  {
   "cell_type": "code",
   "execution_count": 174,
   "metadata": {},
   "outputs": [
    {
     "data": {
      "text/latex": [
       "$\\displaystyle \\left[\\begin{matrix}2.0 x_{1} - 4.0\\\\2.0 x_{2} - 4.0\\end{matrix}\\right]$"
      ],
      "text/plain": [
       "Matrix([\n",
       "[2.0*x1 - 4.0],\n",
       "[2.0*x2 - 4.0]])"
      ]
     },
     "execution_count": 174,
     "metadata": {},
     "output_type": "execute_result"
    }
   ],
   "source": [
    "df_dx1 = sp.diff(f, x1)\n",
    "df_dx2 = sp.diff(f, x2)\n",
    "\n",
    "sp.Matrix([df_dx1, df_dx2])"
   ]
  },
  {
   "cell_type": "code",
   "execution_count": 175,
   "metadata": {},
   "outputs": [
    {
     "data": {
      "text/latex": [
       "$\\displaystyle \\left[\\begin{matrix}2.0 & 0\\\\0 & 2.0\\end{matrix}\\right]$"
      ],
      "text/plain": [
       "Matrix([\n",
       "[2.0,   0],\n",
       "[  0, 2.0]])"
      ]
     },
     "execution_count": 175,
     "metadata": {},
     "output_type": "execute_result"
    }
   ],
   "source": [
    "df_dx1x1 = sp.diff(df_dx1, x1)\n",
    "df_dx1x2 = sp.diff(df_dx1, x2)\n",
    "df_dx2x1 = sp.diff(df_dx2, x1)\n",
    "df_dx2x2 = sp.diff(df_dx2, x2)\n",
    "\n",
    "sp.Matrix([[df_dx1x1, df_dx1x2], [df_dx2x1, df_dx2x2]])"
   ]
  },
  {
   "cell_type": "markdown",
   "metadata": {},
   "source": [
    "## Restrições de desigualdade"
   ]
  },
  {
   "cell_type": "code",
   "execution_count": 176,
   "metadata": {},
   "outputs": [],
   "source": [
    "x1, x2 = sp.symbols('x1 x2')\n",
    "f = x1 + x2 + 3.0"
   ]
  },
  {
   "cell_type": "code",
   "execution_count": 177,
   "metadata": {},
   "outputs": [
    {
     "data": {
      "text/latex": [
       "$\\displaystyle x_{1} + x_{2} + 3.0$"
      ],
      "text/plain": [
       "x1 + x2 + 3.0"
      ]
     },
     "execution_count": 177,
     "metadata": {},
     "output_type": "execute_result"
    }
   ],
   "source": [
    "f"
   ]
  },
  {
   "cell_type": "code",
   "execution_count": 178,
   "metadata": {},
   "outputs": [
    {
     "data": {
      "text/latex": [
       "$\\displaystyle \\left[\\begin{matrix}1\\\\1\\end{matrix}\\right]$"
      ],
      "text/plain": [
       "Matrix([\n",
       "[1],\n",
       "[1]])"
      ]
     },
     "execution_count": 178,
     "metadata": {},
     "output_type": "execute_result"
    }
   ],
   "source": [
    "df_dx1 = sp.diff(f, x1)\n",
    "df_dx2 = sp.diff(f, x2)\n",
    "\n",
    "sp.Matrix([df_dx1, df_dx2])"
   ]
  },
  {
   "cell_type": "code",
   "execution_count": 179,
   "metadata": {},
   "outputs": [
    {
     "data": {
      "text/latex": [
       "$\\displaystyle \\left[\\begin{matrix}0 & 0\\\\0 & 0\\end{matrix}\\right]$"
      ],
      "text/plain": [
       "Matrix([\n",
       "[0, 0],\n",
       "[0, 0]])"
      ]
     },
     "execution_count": 179,
     "metadata": {},
     "output_type": "execute_result"
    }
   ],
   "source": [
    "df_dx1x1 = sp.diff(df_dx1, x1)\n",
    "df_dx1x2 = sp.diff(df_dx1, x2)\n",
    "df_dx2x1 = sp.diff(df_dx2, x1)\n",
    "df_dx2x2 = sp.diff(df_dx2, x2)\n",
    "\n",
    "sp.Matrix([[df_dx1x1, df_dx1x2], [df_dx2x1, df_dx2x2]])"
   ]
  },
  {
   "cell_type": "markdown",
   "metadata": {},
   "source": [
    "# Problema 2"
   ]
  },
  {
   "cell_type": "markdown",
   "metadata": {},
   "source": [
    "## Função objetivo"
   ]
  },
  {
   "cell_type": "code",
   "execution_count": 180,
   "metadata": {},
   "outputs": [],
   "source": [
    "x1, x2 = sp.symbols('x1 x2')\n",
    "f = (x1 - 2) ** 4 + (x1 - 2 * x2) ** 2"
   ]
  },
  {
   "cell_type": "code",
   "execution_count": 181,
   "metadata": {},
   "outputs": [
    {
     "data": {
      "text/latex": [
       "$\\displaystyle \\left(x_{1} - 2\\right)^{4} + \\left(x_{1} - 2 x_{2}\\right)^{2}$"
      ],
      "text/plain": [
       "(x1 - 2)**4 + (x1 - 2*x2)**2"
      ]
     },
     "execution_count": 181,
     "metadata": {},
     "output_type": "execute_result"
    }
   ],
   "source": [
    "f"
   ]
  },
  {
   "cell_type": "code",
   "execution_count": 182,
   "metadata": {},
   "outputs": [
    {
     "data": {
      "text/latex": [
       "$\\displaystyle \\left[\\begin{matrix}2 x_{1} - 4 x_{2} + 4 \\left(x_{1} - 2\\right)^{3}\\\\- 4 x_{1} + 8 x_{2}\\end{matrix}\\right]$"
      ],
      "text/plain": [
       "Matrix([\n",
       "[2*x1 - 4*x2 + 4*(x1 - 2)**3],\n",
       "[               -4*x1 + 8*x2]])"
      ]
     },
     "execution_count": 182,
     "metadata": {},
     "output_type": "execute_result"
    }
   ],
   "source": [
    "df_dx1 = sp.diff(f, x1)\n",
    "df_dx2 = sp.diff(f, x2)\n",
    "\n",
    "sp.Matrix([df_dx1, df_dx2])"
   ]
  },
  {
   "cell_type": "code",
   "execution_count": 183,
   "metadata": {},
   "outputs": [
    {
     "data": {
      "text/latex": [
       "$\\displaystyle \\left[\\begin{matrix}12 \\left(x_{1} - 2\\right)^{2} + 2 & -4\\\\-4 & 8\\end{matrix}\\right]$"
      ],
      "text/plain": [
       "Matrix([\n",
       "[12*(x1 - 2)**2 + 2, -4],\n",
       "[                -4,  8]])"
      ]
     },
     "execution_count": 183,
     "metadata": {},
     "output_type": "execute_result"
    }
   ],
   "source": [
    "df_dx1x1 = sp.diff(df_dx1, x1)\n",
    "df_dx1x2 = sp.diff(df_dx1, x2)\n",
    "df_dx2x1 = sp.diff(df_dx2, x1)\n",
    "df_dx2x2 = sp.diff(df_dx2, x2)\n",
    "\n",
    "sp.Matrix([[df_dx1x1, df_dx1x2], [df_dx2x1, df_dx2x2]])"
   ]
  },
  {
   "cell_type": "markdown",
   "metadata": {},
   "source": [
    "## Restrições de desigualdade"
   ]
  },
  {
   "cell_type": "code",
   "execution_count": 184,
   "metadata": {},
   "outputs": [],
   "source": [
    "x1, x2 = sp.symbols('x1 x2')\n",
    "f = x1**2 - x2"
   ]
  },
  {
   "cell_type": "code",
   "execution_count": 185,
   "metadata": {},
   "outputs": [
    {
     "data": {
      "text/latex": [
       "$\\displaystyle x_{1}^{2} - x_{2}$"
      ],
      "text/plain": [
       "x1**2 - x2"
      ]
     },
     "execution_count": 185,
     "metadata": {},
     "output_type": "execute_result"
    }
   ],
   "source": [
    "f"
   ]
  },
  {
   "cell_type": "code",
   "execution_count": 186,
   "metadata": {},
   "outputs": [
    {
     "data": {
      "text/latex": [
       "$\\displaystyle \\left[\\begin{matrix}2 x_{1}\\\\-1\\end{matrix}\\right]$"
      ],
      "text/plain": [
       "Matrix([\n",
       "[2*x1],\n",
       "[  -1]])"
      ]
     },
     "execution_count": 186,
     "metadata": {},
     "output_type": "execute_result"
    }
   ],
   "source": [
    "df_dx1 = sp.diff(f, x1)\n",
    "df_dx2 = sp.diff(f, x2)\n",
    "\n",
    "sp.Matrix([df_dx1, df_dx2])"
   ]
  },
  {
   "cell_type": "code",
   "execution_count": 187,
   "metadata": {},
   "outputs": [
    {
     "data": {
      "text/latex": [
       "$\\displaystyle \\left[\\begin{matrix}2 & 0\\\\0 & 0\\end{matrix}\\right]$"
      ],
      "text/plain": [
       "Matrix([\n",
       "[2, 0],\n",
       "[0, 0]])"
      ]
     },
     "execution_count": 187,
     "metadata": {},
     "output_type": "execute_result"
    }
   ],
   "source": [
    "df_dx1x1 = sp.diff(df_dx1, x1)\n",
    "df_dx1x2 = sp.diff(df_dx1, x2)\n",
    "df_dx2x1 = sp.diff(df_dx2, x1)\n",
    "df_dx2x2 = sp.diff(df_dx2, x2)\n",
    "\n",
    "sp.Matrix([[df_dx1x1, df_dx1x2], [df_dx2x1, df_dx2x2]])"
   ]
  },
  {
   "cell_type": "markdown",
   "metadata": {},
   "source": [
    "# Problema 3"
   ]
  },
  {
   "cell_type": "markdown",
   "metadata": {},
   "source": [
    "## Função objetivo"
   ]
  },
  {
   "cell_type": "code",
   "execution_count": 188,
   "metadata": {},
   "outputs": [],
   "source": [
    "d, H = sp.symbols(\"d H\")\n",
    "\n",
    "ro = sp.symbols(\"rho\")\n",
    "B = sp.symbols(\"B\")\n",
    "P = sp.symbols(\"P\")\n",
    "t = sp.symbols(\"t\")\n",
    "E = sp.symbols(\"E\")\n",
    "sigma_y = sp.symbols(\"sigma_y\")\n",
    "pi = sp.symbols(\"pi\")\n",
    "\n",
    "x1 = d\n",
    "x2 = H\n",
    "\n",
    "f = 2 * ro * pi * d * t * (H**2 + B**2) ** (1 / 2)"
   ]
  },
  {
   "cell_type": "code",
   "execution_count": 189,
   "metadata": {},
   "outputs": [
    {
     "data": {
      "text/latex": [
       "$\\displaystyle 2 d \\pi \\rho t \\left(B^{2} + H^{2}\\right)^{0.5}$"
      ],
      "text/plain": [
       "2*d*pi*rho*t*(B**2 + H**2)**0.5"
      ]
     },
     "execution_count": 189,
     "metadata": {},
     "output_type": "execute_result"
    }
   ],
   "source": [
    "f"
   ]
  },
  {
   "cell_type": "code",
   "execution_count": 190,
   "metadata": {},
   "outputs": [
    {
     "data": {
      "text/latex": [
       "$\\displaystyle \\left[\\begin{matrix}2 \\pi \\rho t \\left(B^{2} + H^{2}\\right)^{0.5}\\\\\\frac{2.0 H d \\pi \\rho t}{\\left(B^{2} + H^{2}\\right)^{0.5}}\\end{matrix}\\right]$"
      ],
      "text/plain": [
       "Matrix([\n",
       "[      2*pi*rho*t*(B**2 + H**2)**0.5],\n",
       "[2.0*H*d*pi*rho*t/(B**2 + H**2)**0.5]])"
      ]
     },
     "execution_count": 190,
     "metadata": {},
     "output_type": "execute_result"
    }
   ],
   "source": [
    "df_dx1 = sp.diff(f, x1)\n",
    "df_dx2 = sp.diff(f, x2)\n",
    "\n",
    "sp.Matrix([df_dx1, df_dx2])"
   ]
  },
  {
   "cell_type": "code",
   "execution_count": 191,
   "metadata": {},
   "outputs": [
    {
     "data": {
      "text/latex": [
       "$\\displaystyle \\left[\\begin{matrix}0 & \\frac{2.0 H \\pi \\rho t}{\\left(B^{2} + H^{2}\\right)^{0.5}}\\\\\\frac{2.0 H \\pi \\rho t}{\\left(B^{2} + H^{2}\\right)^{0.5}} & - \\frac{2.0 H^{2} d \\pi \\rho t}{\\left(B^{2} + H^{2}\\right)^{1.5}} + \\frac{2.0 d \\pi \\rho t}{\\left(B^{2} + H^{2}\\right)^{0.5}}\\end{matrix}\\right]$"
      ],
      "text/plain": [
       "Matrix([\n",
       "[                                0,                                           2.0*H*pi*rho*t/(B**2 + H**2)**0.5],\n",
       "[2.0*H*pi*rho*t/(B**2 + H**2)**0.5, -2.0*H**2*d*pi*rho*t/(B**2 + H**2)**1.5 + 2.0*d*pi*rho*t/(B**2 + H**2)**0.5]])"
      ]
     },
     "execution_count": 191,
     "metadata": {},
     "output_type": "execute_result"
    }
   ],
   "source": [
    "df_dx1x1 = sp.diff(df_dx1, x1)\n",
    "df_dx1x2 = sp.diff(df_dx1, x2)\n",
    "df_dx2x1 = sp.diff(df_dx2, x1)\n",
    "df_dx2x2 = sp.diff(df_dx2, x2)\n",
    "\n",
    "sp.Matrix([[df_dx1x1, df_dx1x2], [df_dx2x1, df_dx2x2]])"
   ]
  },
  {
   "cell_type": "markdown",
   "metadata": {},
   "source": [
    "## Restrições de desigualdade"
   ]
  },
  {
   "cell_type": "code",
   "execution_count": 192,
   "metadata": {},
   "outputs": [],
   "source": [
    "d, H = sp.symbols(\"d H\")\n",
    "\n",
    "ro = sp.symbols(\"rho\")\n",
    "B = sp.symbols(\"B\")\n",
    "P = sp.symbols(\"P\")\n",
    "t = sp.symbols(\"t\")\n",
    "E = sp.symbols(\"E\")\n",
    "sigma_y = sp.symbols(\"sigma_y\")\n",
    "pi = sp.symbols(\"pi\")\n",
    "\n",
    "x1 = d\n",
    "x2 = H\n",
    "\n",
    "\n",
    "f = P * (H**2 + B**2) ** (1 / 2) / (pi * d * t * H) - sigma_y"
   ]
  },
  {
   "cell_type": "code",
   "execution_count": 193,
   "metadata": {},
   "outputs": [
    {
     "data": {
      "text/latex": [
       "$\\displaystyle - \\sigma_{y} + \\frac{P \\left(B^{2} + H^{2}\\right)^{0.5}}{H d \\pi t}$"
      ],
      "text/plain": [
       "-sigma_y + P*(B**2 + H**2)**0.5/(H*d*pi*t)"
      ]
     },
     "execution_count": 193,
     "metadata": {},
     "output_type": "execute_result"
    }
   ],
   "source": [
    "f"
   ]
  },
  {
   "cell_type": "code",
   "execution_count": 194,
   "metadata": {},
   "outputs": [
    {
     "data": {
      "text/latex": [
       "$\\displaystyle \\left[\\begin{matrix}- \\frac{P \\left(B^{2} + H^{2}\\right)^{0.5}}{H d^{2} \\pi t}\\\\\\frac{1.0 P}{d \\pi t \\left(B^{2} + H^{2}\\right)^{0.5}} - \\frac{P \\left(B^{2} + H^{2}\\right)^{0.5}}{H^{2} d \\pi t}\\end{matrix}\\right]$"
      ],
      "text/plain": [
       "Matrix([\n",
       "[                                   -P*(B**2 + H**2)**0.5/(H*d**2*pi*t)],\n",
       "[1.0*P/(d*pi*t*(B**2 + H**2)**0.5) - P*(B**2 + H**2)**0.5/(H**2*d*pi*t)]])"
      ]
     },
     "execution_count": 194,
     "metadata": {},
     "output_type": "execute_result"
    }
   ],
   "source": [
    "df_dx1 = sp.diff(f, x1)\n",
    "df_dx2 = sp.diff(f, x2)\n",
    "\n",
    "sp.Matrix([df_dx1, df_dx2])"
   ]
  },
  {
   "cell_type": "code",
   "execution_count": 195,
   "metadata": {},
   "outputs": [
    {
     "data": {
      "text/latex": [
       "$\\displaystyle \\left[\\begin{matrix}\\frac{2 P \\left(B^{2} + H^{2}\\right)^{0.5}}{H d^{3} \\pi t} & - \\frac{1.0 P}{d^{2} \\pi t \\left(B^{2} + H^{2}\\right)^{0.5}} + \\frac{P \\left(B^{2} + H^{2}\\right)^{0.5}}{H^{2} d^{2} \\pi t}\\\\- \\frac{1.0 P}{d^{2} \\pi t \\left(B^{2} + H^{2}\\right)^{0.5}} + \\frac{P \\left(B^{2} + H^{2}\\right)^{0.5}}{H^{2} d^{2} \\pi t} & - \\frac{1.0 H P}{d \\pi t \\left(B^{2} + H^{2}\\right)^{1.5}} - \\frac{1.0 P}{H d \\pi t \\left(B^{2} + H^{2}\\right)^{0.5}} + \\frac{2 P \\left(B^{2} + H^{2}\\right)^{0.5}}{H^{3} d \\pi t}\\end{matrix}\\right]$"
      ],
      "text/plain": [
       "Matrix([\n",
       "[                                         2*P*(B**2 + H**2)**0.5/(H*d**3*pi*t),                                     -1.0*P/(d**2*pi*t*(B**2 + H**2)**0.5) + P*(B**2 + H**2)**0.5/(H**2*d**2*pi*t)],\n",
       "[-1.0*P/(d**2*pi*t*(B**2 + H**2)**0.5) + P*(B**2 + H**2)**0.5/(H**2*d**2*pi*t), -1.0*H*P/(d*pi*t*(B**2 + H**2)**1.5) - 1.0*P/(H*d*pi*t*(B**2 + H**2)**0.5) + 2*P*(B**2 + H**2)**0.5/(H**3*d*pi*t)]])"
      ]
     },
     "execution_count": 195,
     "metadata": {},
     "output_type": "execute_result"
    }
   ],
   "source": [
    "df_dx1x1 = sp.diff(df_dx1, x1)\n",
    "df_dx1x2 = sp.diff(df_dx1, x2)\n",
    "df_dx2x1 = sp.diff(df_dx2, x1)\n",
    "df_dx2x2 = sp.diff(df_dx2, x2)\n",
    "\n",
    "sp.Matrix([[df_dx1x1, df_dx1x2], [df_dx2x1, df_dx2x2]])"
   ]
  }
 ],
 "metadata": {
  "kernelspec": {
   "display_name": "python",
   "language": "python",
   "name": "python3"
  },
  "language_info": {
   "codemirror_mode": {
    "name": "ipython",
    "version": 3
   },
   "file_extension": ".py",
   "mimetype": "text/x-python",
   "name": "python",
   "nbconvert_exporter": "python",
   "pygments_lexer": "ipython3",
   "version": "3.11.10"
  }
 },
 "nbformat": 4,
 "nbformat_minor": 2
}
